{
 "cells": [
  {
   "cell_type": "code",
   "execution_count": 4,
   "metadata": {},
   "outputs": [],
   "source": [
    "import pandas as pd \n",
    "import numpy as np\n",
    "import matplotlib.pyplot as plt\n",
    "%matplotlib inline\n",
    "import seaborn as sn"
   ]
  },
  {
   "cell_type": "code",
   "execution_count": 5,
   "metadata": {},
   "outputs": [],
   "source": [
    "df = pd.read_csv(\"data.csv\", encoding='cp1252')"
   ]
  },
  {
   "cell_type": "code",
   "execution_count": 6,
   "metadata": {},
   "outputs": [
    {
     "data": {
      "text/html": [
       "<div>\n",
       "<style scoped>\n",
       "    .dataframe tbody tr th:only-of-type {\n",
       "        vertical-align: middle;\n",
       "    }\n",
       "\n",
       "    .dataframe tbody tr th {\n",
       "        vertical-align: top;\n",
       "    }\n",
       "\n",
       "    .dataframe thead th {\n",
       "        text-align: right;\n",
       "    }\n",
       "</style>\n",
       "<table border=\"1\" class=\"dataframe\">\n",
       "  <thead>\n",
       "    <tr style=\"text-align: right;\">\n",
       "      <th></th>\n",
       "      <th>Age</th>\n",
       "      <th>City</th>\n",
       "      <th>Current Status</th>\n",
       "      <th>Do you own multiple profiles on Instagram?</th>\n",
       "      <th>Gender</th>\n",
       "      <th>Highest Education</th>\n",
       "      <th>Location (City Airport Code)</th>\n",
       "      <th>Phone OS</th>\n",
       "      <th>State</th>\n",
       "      <th>Zone</th>\n",
       "      <th>...</th>\n",
       "      <th>Time Spent on Instagram in last week (in minutes)</th>\n",
       "      <th>Time Spent on Instagram in last weekend (in minutes)</th>\n",
       "      <th>Time Spent on WhatsApp in last week (in minutes)</th>\n",
       "      <th>Time Spent on WhatsApp in last weekend (in minutes)</th>\n",
       "      <th>Total Facebook Usage</th>\n",
       "      <th>Total Instagram Usage</th>\n",
       "      <th>Total Social Media Usage</th>\n",
       "      <th>Total Week Usage</th>\n",
       "      <th>Total Weekend Usage</th>\n",
       "      <th>Total WhatsApp Usage</th>\n",
       "    </tr>\n",
       "  </thead>\n",
       "  <tbody>\n",
       "    <tr>\n",
       "      <th>0</th>\n",
       "      <td>24</td>\n",
       "      <td>Delhi</td>\n",
       "      <td>Working professional</td>\n",
       "      <td>No</td>\n",
       "      <td>Female</td>\n",
       "      <td>Graduation</td>\n",
       "      <td>DEL</td>\n",
       "      <td>iOs</td>\n",
       "      <td>Delhi</td>\n",
       "      <td>Northern</td>\n",
       "      <td>...</td>\n",
       "      <td>770</td>\n",
       "      <td>400</td>\n",
       "      <td>900</td>\n",
       "      <td>120</td>\n",
       "      <td>0</td>\n",
       "      <td>1,170</td>\n",
       "      <td>2,190</td>\n",
       "      <td>1,670</td>\n",
       "      <td>520</td>\n",
       "      <td>1,020</td>\n",
       "    </tr>\n",
       "    <tr>\n",
       "      <th>1</th>\n",
       "      <td>39</td>\n",
       "      <td>Delhi</td>\n",
       "      <td>Working professional</td>\n",
       "      <td>No</td>\n",
       "      <td>Female</td>\n",
       "      <td>Post graduation</td>\n",
       "      <td>DEL</td>\n",
       "      <td>iOs</td>\n",
       "      <td>Delhi</td>\n",
       "      <td>Northern</td>\n",
       "      <td>...</td>\n",
       "      <td>0</td>\n",
       "      <td>0</td>\n",
       "      <td>5,000</td>\n",
       "      <td>2,000</td>\n",
       "      <td>8,160</td>\n",
       "      <td>0</td>\n",
       "      <td>15,160</td>\n",
       "      <td>11,000</td>\n",
       "      <td>4,160</td>\n",
       "      <td>7,000</td>\n",
       "    </tr>\n",
       "    <tr>\n",
       "      <th>2</th>\n",
       "      <td>22</td>\n",
       "      <td>Mumbai</td>\n",
       "      <td>Working professional</td>\n",
       "      <td>No</td>\n",
       "      <td>Male</td>\n",
       "      <td>Graduation</td>\n",
       "      <td>BOM</td>\n",
       "      <td>Android</td>\n",
       "      <td>Maharashtra</td>\n",
       "      <td>Western</td>\n",
       "      <td>...</td>\n",
       "      <td>1,000</td>\n",
       "      <td>1,000</td>\n",
       "      <td>7,000</td>\n",
       "      <td>2,000</td>\n",
       "      <td>2,500</td>\n",
       "      <td>2,000</td>\n",
       "      <td>13,500</td>\n",
       "      <td>8,500</td>\n",
       "      <td>5,000</td>\n",
       "      <td>9,000</td>\n",
       "    </tr>\n",
       "    <tr>\n",
       "      <th>3</th>\n",
       "      <td>26</td>\n",
       "      <td>Bengaluru</td>\n",
       "      <td>Sabbatical</td>\n",
       "      <td>Yes</td>\n",
       "      <td>Female</td>\n",
       "      <td>Graduation</td>\n",
       "      <td>BLR</td>\n",
       "      <td>Android</td>\n",
       "      <td>Karnataka</td>\n",
       "      <td>Southern</td>\n",
       "      <td>...</td>\n",
       "      <td>2,000</td>\n",
       "      <td>2,000</td>\n",
       "      <td>1,680</td>\n",
       "      <td>1,680</td>\n",
       "      <td>3,000</td>\n",
       "      <td>4,000</td>\n",
       "      <td>10,360</td>\n",
       "      <td>5,180</td>\n",
       "      <td>5,180</td>\n",
       "      <td>3,360</td>\n",
       "    </tr>\n",
       "    <tr>\n",
       "      <th>4</th>\n",
       "      <td>50</td>\n",
       "      <td>Delhi</td>\n",
       "      <td>Working professional</td>\n",
       "      <td>No</td>\n",
       "      <td>Male</td>\n",
       "      <td>Graduation</td>\n",
       "      <td>DEL</td>\n",
       "      <td>iOs</td>\n",
       "      <td>Delhi</td>\n",
       "      <td>Northern</td>\n",
       "      <td>...</td>\n",
       "      <td>0</td>\n",
       "      <td>0</td>\n",
       "      <td>2,400</td>\n",
       "      <td>1,300</td>\n",
       "      <td>3,000</td>\n",
       "      <td>0</td>\n",
       "      <td>6,700</td>\n",
       "      <td>3,900</td>\n",
       "      <td>2,800</td>\n",
       "      <td>3,700</td>\n",
       "    </tr>\n",
       "  </tbody>\n",
       "</table>\n",
       "<p>5 rows × 26 columns</p>\n",
       "</div>"
      ],
      "text/plain": [
       "   Age       City        Current Status  \\\n",
       "0   24      Delhi  Working professional   \n",
       "1   39      Delhi  Working professional   \n",
       "2   22     Mumbai  Working professional   \n",
       "3   26  Bengaluru            Sabbatical   \n",
       "4   50      Delhi  Working professional   \n",
       "\n",
       "  Do you own multiple profiles on Instagram?  Gender Highest Education  \\\n",
       "0                                         No  Female        Graduation   \n",
       "1                                         No  Female   Post graduation   \n",
       "2                                         No    Male        Graduation   \n",
       "3                                        Yes  Female        Graduation   \n",
       "4                                         No    Male        Graduation   \n",
       "\n",
       "  Location (City Airport Code) Phone OS        State      Zone  ...  \\\n",
       "0                          DEL      iOs        Delhi  Northern  ...   \n",
       "1                          DEL      iOs        Delhi  Northern  ...   \n",
       "2                          BOM  Android  Maharashtra   Western  ...   \n",
       "3                          BLR  Android    Karnataka  Southern  ...   \n",
       "4                          DEL      iOs        Delhi  Northern  ...   \n",
       "\n",
       "  Time Spent on Instagram in last week (in minutes)  \\\n",
       "0                                               770   \n",
       "1                                                 0   \n",
       "2                                             1,000   \n",
       "3                                             2,000   \n",
       "4                                                 0   \n",
       "\n",
       "  Time Spent on Instagram in last weekend (in minutes)  \\\n",
       "0                                                400     \n",
       "1                                                  0     \n",
       "2                                              1,000     \n",
       "3                                              2,000     \n",
       "4                                                  0     \n",
       "\n",
       "   Time Spent on WhatsApp in last week (in minutes)  \\\n",
       "0                                               900   \n",
       "1                                             5,000   \n",
       "2                                             7,000   \n",
       "3                                             1,680   \n",
       "4                                             2,400   \n",
       "\n",
       "   Time Spent on WhatsApp in last weekend (in minutes) Total Facebook Usage  \\\n",
       "0                                                120                      0   \n",
       "1                                              2,000                  8,160   \n",
       "2                                              2,000                  2,500   \n",
       "3                                              1,680                  3,000   \n",
       "4                                              1,300                  3,000   \n",
       "\n",
       "  Total Instagram Usage Total Social Media Usage Total Week Usage  \\\n",
       "0                 1,170                    2,190            1,670   \n",
       "1                     0                   15,160           11,000   \n",
       "2                 2,000                   13,500            8,500   \n",
       "3                 4,000                   10,360            5,180   \n",
       "4                     0                    6,700            3,900   \n",
       "\n",
       "  Total Weekend Usage Total WhatsApp Usage  \n",
       "0                 520                1,020  \n",
       "1               4,160                7,000  \n",
       "2               5,000                9,000  \n",
       "3               5,180                3,360  \n",
       "4               2,800                3,700  \n",
       "\n",
       "[5 rows x 26 columns]"
      ]
     },
     "execution_count": 6,
     "metadata": {},
     "output_type": "execute_result"
    }
   ],
   "source": [
    "df.head()"
   ]
  },
  {
   "cell_type": "code",
   "execution_count": 7,
   "metadata": {},
   "outputs": [
    {
     "data": {
      "text/plain": [
       "Index(['Age', 'City', 'Current Status',\n",
       "       'Do you own multiple profiles on Instagram?', 'Gender',\n",
       "       'Highest Education', 'Location (City Airport Code)', 'Phone OS',\n",
       "       'State', 'Zone',\n",
       "       'How many followers do you have on Instagram? (In case of multiple accounts, please mention the one with the maximum)',\n",
       "       'How many posts do you have on Instagram?', 'Latitude', 'Longitude',\n",
       "       'Time Spent on Facebook in last week (in minutes)',\n",
       "       'Time Spent on Facebook in last weekend (in minutes)',\n",
       "       'Time Spent on Instagram in last week (in minutes)',\n",
       "       'Time Spent on Instagram in last weekend (in minutes)',\n",
       "       'Time Spent on WhatsApp in last week (in minutes)',\n",
       "       'Time Spent on WhatsApp in last weekend (in minutes)',\n",
       "       'Total Facebook Usage', 'Total Instagram Usage',\n",
       "       'Total Social Media Usage', 'Total Week Usage', 'Total Weekend Usage',\n",
       "       'Total WhatsApp Usage'],\n",
       "      dtype='object')"
      ]
     },
     "execution_count": 7,
     "metadata": {},
     "output_type": "execute_result"
    }
   ],
   "source": [
    "df.columns"
   ]
  },
  {
   "cell_type": "code",
   "execution_count": 8,
   "metadata": {},
   "outputs": [
    {
     "data": {
      "text/plain": [
       "(1628, 26)"
      ]
     },
     "execution_count": 8,
     "metadata": {},
     "output_type": "execute_result"
    }
   ],
   "source": [
    "df.shape"
   ]
  },
  {
   "cell_type": "markdown",
   "metadata": {},
   "source": [
    "Data Preprocessing"
   ]
  },
  {
   "cell_type": "code",
   "execution_count": 9,
   "metadata": {},
   "outputs": [
    {
     "data": {
      "text/html": [
       "<div>\n",
       "<style scoped>\n",
       "    .dataframe tbody tr th:only-of-type {\n",
       "        vertical-align: middle;\n",
       "    }\n",
       "\n",
       "    .dataframe tbody tr th {\n",
       "        vertical-align: top;\n",
       "    }\n",
       "\n",
       "    .dataframe thead th {\n",
       "        text-align: right;\n",
       "    }\n",
       "</style>\n",
       "<table border=\"1\" class=\"dataframe\">\n",
       "  <thead>\n",
       "    <tr style=\"text-align: right;\">\n",
       "      <th></th>\n",
       "      <th>Age</th>\n",
       "      <th>City</th>\n",
       "      <th>Current Status</th>\n",
       "      <th>Do you own multiple profiles on Instagram?</th>\n",
       "      <th>Gender</th>\n",
       "      <th>Highest Education</th>\n",
       "      <th>Phone OS</th>\n",
       "      <th>State</th>\n",
       "      <th>How many followers do you have on Instagram? (In case of multiple accounts, please mention the one with the maximum)</th>\n",
       "      <th>How many posts do you have on Instagram?</th>\n",
       "      <th>...</th>\n",
       "      <th>Time Spent on Instagram in last week (in minutes)</th>\n",
       "      <th>Time Spent on Instagram in last weekend (in minutes)</th>\n",
       "      <th>Time Spent on WhatsApp in last week (in minutes)</th>\n",
       "      <th>Time Spent on WhatsApp in last weekend (in minutes)</th>\n",
       "      <th>Total Facebook Usage</th>\n",
       "      <th>Total Instagram Usage</th>\n",
       "      <th>Total Social Media Usage</th>\n",
       "      <th>Total Week Usage</th>\n",
       "      <th>Total Weekend Usage</th>\n",
       "      <th>Total WhatsApp Usage</th>\n",
       "    </tr>\n",
       "  </thead>\n",
       "  <tbody>\n",
       "    <tr>\n",
       "      <th>0</th>\n",
       "      <td>24</td>\n",
       "      <td>Delhi</td>\n",
       "      <td>Working professional</td>\n",
       "      <td>No</td>\n",
       "      <td>Female</td>\n",
       "      <td>Graduation</td>\n",
       "      <td>iOs</td>\n",
       "      <td>Delhi</td>\n",
       "      <td>456</td>\n",
       "      <td>20</td>\n",
       "      <td>...</td>\n",
       "      <td>770</td>\n",
       "      <td>400</td>\n",
       "      <td>900</td>\n",
       "      <td>120</td>\n",
       "      <td>0</td>\n",
       "      <td>1,170</td>\n",
       "      <td>2,190</td>\n",
       "      <td>1,670</td>\n",
       "      <td>520</td>\n",
       "      <td>1,020</td>\n",
       "    </tr>\n",
       "    <tr>\n",
       "      <th>1</th>\n",
       "      <td>39</td>\n",
       "      <td>Delhi</td>\n",
       "      <td>Working professional</td>\n",
       "      <td>No</td>\n",
       "      <td>Female</td>\n",
       "      <td>Post graduation</td>\n",
       "      <td>iOs</td>\n",
       "      <td>Delhi</td>\n",
       "      <td>0</td>\n",
       "      <td>0</td>\n",
       "      <td>...</td>\n",
       "      <td>0</td>\n",
       "      <td>0</td>\n",
       "      <td>5,000</td>\n",
       "      <td>2,000</td>\n",
       "      <td>8,160</td>\n",
       "      <td>0</td>\n",
       "      <td>15,160</td>\n",
       "      <td>11,000</td>\n",
       "      <td>4,160</td>\n",
       "      <td>7,000</td>\n",
       "    </tr>\n",
       "    <tr>\n",
       "      <th>2</th>\n",
       "      <td>22</td>\n",
       "      <td>Mumbai</td>\n",
       "      <td>Working professional</td>\n",
       "      <td>No</td>\n",
       "      <td>Male</td>\n",
       "      <td>Graduation</td>\n",
       "      <td>Android</td>\n",
       "      <td>Maharashtra</td>\n",
       "      <td>400</td>\n",
       "      <td>6</td>\n",
       "      <td>...</td>\n",
       "      <td>1,000</td>\n",
       "      <td>1,000</td>\n",
       "      <td>7,000</td>\n",
       "      <td>2,000</td>\n",
       "      <td>2,500</td>\n",
       "      <td>2,000</td>\n",
       "      <td>13,500</td>\n",
       "      <td>8,500</td>\n",
       "      <td>5,000</td>\n",
       "      <td>9,000</td>\n",
       "    </tr>\n",
       "    <tr>\n",
       "      <th>3</th>\n",
       "      <td>26</td>\n",
       "      <td>Bengaluru</td>\n",
       "      <td>Sabbatical</td>\n",
       "      <td>Yes</td>\n",
       "      <td>Female</td>\n",
       "      <td>Graduation</td>\n",
       "      <td>Android</td>\n",
       "      <td>Karnataka</td>\n",
       "      <td>485</td>\n",
       "      <td>16</td>\n",
       "      <td>...</td>\n",
       "      <td>2,000</td>\n",
       "      <td>2,000</td>\n",
       "      <td>1,680</td>\n",
       "      <td>1,680</td>\n",
       "      <td>3,000</td>\n",
       "      <td>4,000</td>\n",
       "      <td>10,360</td>\n",
       "      <td>5,180</td>\n",
       "      <td>5,180</td>\n",
       "      <td>3,360</td>\n",
       "    </tr>\n",
       "    <tr>\n",
       "      <th>4</th>\n",
       "      <td>50</td>\n",
       "      <td>Delhi</td>\n",
       "      <td>Working professional</td>\n",
       "      <td>No</td>\n",
       "      <td>Male</td>\n",
       "      <td>Graduation</td>\n",
       "      <td>iOs</td>\n",
       "      <td>Delhi</td>\n",
       "      <td>0</td>\n",
       "      <td>0</td>\n",
       "      <td>...</td>\n",
       "      <td>0</td>\n",
       "      <td>0</td>\n",
       "      <td>2,400</td>\n",
       "      <td>1,300</td>\n",
       "      <td>3,000</td>\n",
       "      <td>0</td>\n",
       "      <td>6,700</td>\n",
       "      <td>3,900</td>\n",
       "      <td>2,800</td>\n",
       "      <td>3,700</td>\n",
       "    </tr>\n",
       "  </tbody>\n",
       "</table>\n",
       "<p>5 rows × 22 columns</p>\n",
       "</div>"
      ],
      "text/plain": [
       "   Age       City        Current Status  \\\n",
       "0   24      Delhi  Working professional   \n",
       "1   39      Delhi  Working professional   \n",
       "2   22     Mumbai  Working professional   \n",
       "3   26  Bengaluru            Sabbatical   \n",
       "4   50      Delhi  Working professional   \n",
       "\n",
       "  Do you own multiple profiles on Instagram?  Gender Highest Education  \\\n",
       "0                                         No  Female        Graduation   \n",
       "1                                         No  Female   Post graduation   \n",
       "2                                         No    Male        Graduation   \n",
       "3                                        Yes  Female        Graduation   \n",
       "4                                         No    Male        Graduation   \n",
       "\n",
       "  Phone OS        State  \\\n",
       "0      iOs        Delhi   \n",
       "1      iOs        Delhi   \n",
       "2  Android  Maharashtra   \n",
       "3  Android    Karnataka   \n",
       "4      iOs        Delhi   \n",
       "\n",
       "  How many followers do you have on Instagram? (In case of multiple accounts, please mention the one with the maximum)  \\\n",
       "0                                                456                                                                     \n",
       "1                                                  0                                                                     \n",
       "2                                                400                                                                     \n",
       "3                                                485                                                                     \n",
       "4                                                  0                                                                     \n",
       "\n",
       "  How many posts do you have on Instagram?  ...  \\\n",
       "0                                       20  ...   \n",
       "1                                        0  ...   \n",
       "2                                        6  ...   \n",
       "3                                       16  ...   \n",
       "4                                        0  ...   \n",
       "\n",
       "  Time Spent on Instagram in last week (in minutes)  \\\n",
       "0                                               770   \n",
       "1                                                 0   \n",
       "2                                             1,000   \n",
       "3                                             2,000   \n",
       "4                                                 0   \n",
       "\n",
       "  Time Spent on Instagram in last weekend (in minutes)  \\\n",
       "0                                                400     \n",
       "1                                                  0     \n",
       "2                                              1,000     \n",
       "3                                              2,000     \n",
       "4                                                  0     \n",
       "\n",
       "  Time Spent on WhatsApp in last week (in minutes)  \\\n",
       "0                                              900   \n",
       "1                                            5,000   \n",
       "2                                            7,000   \n",
       "3                                            1,680   \n",
       "4                                            2,400   \n",
       "\n",
       "  Time Spent on WhatsApp in last weekend (in minutes) Total Facebook Usage  \\\n",
       "0                                                120                     0   \n",
       "1                                              2,000                 8,160   \n",
       "2                                              2,000                 2,500   \n",
       "3                                              1,680                 3,000   \n",
       "4                                              1,300                 3,000   \n",
       "\n",
       "  Total Instagram Usage Total Social Media Usage Total Week Usage  \\\n",
       "0                 1,170                    2,190            1,670   \n",
       "1                     0                   15,160           11,000   \n",
       "2                 2,000                   13,500            8,500   \n",
       "3                 4,000                   10,360            5,180   \n",
       "4                     0                    6,700            3,900   \n",
       "\n",
       "  Total Weekend Usage Total WhatsApp Usage  \n",
       "0                 520                1,020  \n",
       "1               4,160                7,000  \n",
       "2               5,000                9,000  \n",
       "3               5,180                3,360  \n",
       "4               2,800                3,700  \n",
       "\n",
       "[5 rows x 22 columns]"
      ]
     },
     "execution_count": 9,
     "metadata": {},
     "output_type": "execute_result"
    }
   ],
   "source": [
    "df.drop(df.columns[[6,9,12,13]], axis = 1, inplace = True)\n",
    "df.head()"
   ]
  },
  {
   "cell_type": "code",
   "execution_count": 497,
   "metadata": {},
   "outputs": [
    {
     "data": {
      "text/plain": [
       "Age                                                                                                                      int64\n",
       "City                                                                                                                    object\n",
       "Current Status                                                                                                          object\n",
       "Do you own multiple profiles on Instagram?                                                                              object\n",
       "Gender                                                                                                                  object\n",
       "Highest Education                                                                                                       object\n",
       "Phone OS                                                                                                                object\n",
       "State                                                                                                                   object\n",
       "How many followers do you have on Instagram? (In case of multiple accounts, please mention the one with the maximum)    object\n",
       "How many posts do you have on Instagram?                                                                                object\n",
       "Time Spent on Facebook in last week (in minutes)                                                                        object\n",
       "Time Spent on Facebook in last weekend (in minutes)                                                                     object\n",
       "Time Spent on Instagram in last week (in minutes)                                                                       object\n",
       "Time Spent on Instagram in last weekend (in minutes)                                                                    object\n",
       "Time Spent on WhatsApp in last week (in minutes)                                                                        object\n",
       "Time Spent on WhatsApp in last weekend (in minutes)                                                                     object\n",
       "Total Facebook Usage                                                                                                    object\n",
       "Total Instagram Usage                                                                                                   object\n",
       "Total Social Media Usage                                                                                                object\n",
       "Total Week Usage                                                                                                        object\n",
       "Total Weekend Usage                                                                                                     object\n",
       "Total WhatsApp Usage                                                                                                    object\n",
       "dtype: object"
      ]
     },
     "execution_count": 497,
     "metadata": {},
     "output_type": "execute_result"
    }
   ],
   "source": [
    "df.dtypes"
   ]
  },
  {
   "cell_type": "code",
   "execution_count": 10,
   "metadata": {},
   "outputs": [],
   "source": [
    "def convert_to_num(x):\n",
    "    x = x.replace(',','')\n",
    "    return pd.to_numeric(x)"
   ]
  },
  {
   "cell_type": "code",
   "execution_count": 11,
   "metadata": {},
   "outputs": [],
   "source": [
    "df['Time Spent on Facebook in last week (in minutes)'] = df['Time Spent on Facebook in last week (in minutes)'].map(convert_to_num)\n",
    "df['Time Spent on Facebook in last weekend (in minutes)'] = df['Time Spent on Facebook in last weekend (in minutes)'].map(convert_to_num)\n",
    "df['Time Spent on Instagram in last week (in minutes)'] = df['Time Spent on Instagram in last week (in minutes)'].map(convert_to_num)\n",
    "df['Time Spent on Instagram in last weekend (in minutes)'] = df['Time Spent on Instagram in last weekend (in minutes)'].map(convert_to_num)\n",
    "df['Time Spent on WhatsApp in last week (in minutes)'] = df['Time Spent on WhatsApp in last week (in minutes)'].map(convert_to_num)\n",
    "df['Time Spent on WhatsApp in last weekend (in minutes)'] = df['Time Spent on WhatsApp in last weekend (in minutes)'].map(convert_to_num)\n",
    "df['Total Social Media Usage'] = df['Total Social Media Usage'].map(convert_to_num)\n",
    "df['Total Facebook Usage'] = df['Total Facebook Usage'].map(convert_to_num)\n",
    "df['Total Instagram Usage'] = df['Total Instagram Usage'].map(convert_to_num)\n",
    "df['Total Week Usage'] = df['Total Week Usage'].map(convert_to_num)\n",
    "df['Total Weekend Usage'] = df['Total Weekend Usage'].map(convert_to_num)\n",
    "df['Total WhatsApp Usage'] = df['Total WhatsApp Usage'].map(convert_to_num)\n",
    "df['How many posts do you have on Instagram?'] = df['How many posts do you have on Instagram?'].map(convert_to_num)\n",
    "df['How many followers do you have on Instagram? (In case of multiple accounts, please mention the one with the maximum)'] = df['How many followers do you have on Instagram? (In case of multiple accounts, please mention the one with the maximum)'].map(convert_to_num)"
   ]
  },
  {
   "cell_type": "code",
   "execution_count": 13,
   "metadata": {},
   "outputs": [],
   "source": [
    "df['City']=df['City'].astype(str)\n",
    "df['Highest Education']=df['Highest Education'].astype(str)\n",
    "df['Current Status']=df['Current Status'].astype(str)\n",
    "df['Do you own multiple profiles on Instagram?']=df['Do you own multiple profiles on Instagram?'].astype(str)\n",
    "df['Phone OS']=df['Phone OS'].astype(str)\n",
    "df['State']=df['State'].astype(str)"
   ]
  },
  {
   "cell_type": "code",
   "execution_count": 14,
   "metadata": {},
   "outputs": [
    {
     "data": {
      "text/plain": [
       "Index(['Age', 'City', 'Current Status',\n",
       "       'Do you own multiple profiles on Instagram?', 'Gender',\n",
       "       'Highest Education', 'Phone OS', 'State', 'Instagram Followers',\n",
       "       'Instagram Posts', 'Time Spent on Facebook in last week',\n",
       "       'Time Spent on Facebook in last weekend',\n",
       "       'Time Spent on Instagram in last week',\n",
       "       'Time Spent on Instagram in last weekend',\n",
       "       'Time Spent on WhatsApp in last week',\n",
       "       'Time Spent on WhatsApp in last weekend', 'Total Facebook Usage',\n",
       "       'Total Instagram Usage', 'Total Social Media Usage', 'Total Week Usage',\n",
       "       'Total Weekend Usage', 'Total WhatsApp Usage'],\n",
       "      dtype='object')"
      ]
     },
     "execution_count": 14,
     "metadata": {},
     "output_type": "execute_result"
    }
   ],
   "source": [
    "df = df.rename(columns={\n",
    "    'How many followers do you have on Instagram? (In case of multiple accounts, please mention the one with the maximum)':'Instagram Followers',\n",
    "    'How many posts do you have on Instagram?':'Instagram Posts','Time Spent on Facebook in last week (in minutes)':'Time Spent on Facebook in last week',\n",
    "    'Time Spent on Facebook in last weekend (in minutes)':'Time Spent on Facebook in last weekend',\n",
    "    'Time Spent on Instagram in last week (in minutes)':'Time Spent on Instagram in last week',\n",
    "    'Time Spent on Instagram in last weekend (in minutes)':'Time Spent on Instagram in last weekend',\n",
    "    'Time Spent on WhatsApp in last week (in minutes)':'Time Spent on WhatsApp in last week',\n",
    "    'Time Spent on WhatsApp in last weekend (in minutes)':'Time Spent on WhatsApp in last weekend'\n",
    "})\n",
    "df.columns"
   ]
  },
  {
   "cell_type": "code",
   "execution_count": 15,
   "metadata": {},
   "outputs": [
    {
     "data": {
      "text/plain": [
       "Age                                             int64\n",
       "City                                           object\n",
       "Current Status                                 object\n",
       "Do you own multiple profiles on Instagram?     object\n",
       "Gender                                         object\n",
       "Highest Education                              object\n",
       "Phone OS                                       object\n",
       "State                                          object\n",
       "Instagram Followers                             int64\n",
       "Instagram Posts                                 int64\n",
       "Time Spent on Facebook in last week             int64\n",
       "Time Spent on Facebook in last weekend          int64\n",
       "Time Spent on Instagram in last week            int64\n",
       "Time Spent on Instagram in last weekend         int64\n",
       "Time Spent on WhatsApp in last week             int64\n",
       "Time Spent on WhatsApp in last weekend        float64\n",
       "Total Facebook Usage                            int64\n",
       "Total Instagram Usage                           int64\n",
       "Total Social Media Usage                      float64\n",
       "Total Week Usage                                int64\n",
       "Total Weekend Usage                           float64\n",
       "Total WhatsApp Usage                          float64\n",
       "dtype: object"
      ]
     },
     "execution_count": 15,
     "metadata": {},
     "output_type": "execute_result"
    }
   ],
   "source": [
    "df.dtypes"
   ]
  },
  {
   "cell_type": "markdown",
   "metadata": {},
   "source": [
    "Visualizations."
   ]
  },
  {
   "cell_type": "code",
   "execution_count": 16,
   "metadata": {},
   "outputs": [
    {
     "data": {
      "image/png": "[encoded data removed]",
      "text/plain": [
       "<Figure size 432x288 with 1 Axes>"
      ]
     },
     "metadata": {
      "needs_background": "light"
     },
     "output_type": "display_data"
    }
   ],
   "source": [
    "\n",
    "import numpy as np\n",
    "import matplotlib.pyplot as plt\n",
    "\n",
    "gender = list(df['Gender'])\n",
    "\n",
    "usage = list(df['Total Social Media Usage'])\n",
    "\n",
    "\n",
    "plt.bar(gender, usage, color ='maroon',\n",
    "\t\twidth = 0.4)\n",
    "\n",
    "plt.xlabel(\"Gender\")\n",
    "plt.ylabel(\"Social Media Usage\")\n",
    "plt.title(\"Social media usage vs Gender\")\n",
    "plt.show()"
   ]
  },
  {
   "cell_type": "code",
   "execution_count": 17,
   "metadata": {},
   "outputs": [
    {
     "data": {
      "image/png": "[encoded data removed]",
      "text/plain": [
       "<Figure size 432x288 with 1 Axes>"
      ]
     },
     "metadata": {
      "needs_background": "light"
     },
     "output_type": "display_data"
    }
   ],
   "source": [
    "data_c = df[df['Current Status']=='Working professional']\n",
    "data_c = df[['Total Week Usage','Total Weekend Usage']]\n",
    "import matplotlib.pyplot as plt\n",
    "\n",
    "plt.hist([data_c['Total Week Usage'], data_c['Total Weekend Usage']],label=['Total Week Usage','Total Weekend Usage'])\n",
    "plt.legend(loc='upper right')\n",
    "plt.show()"
   ]
  },
  {
   "cell_type": "code",
   "execution_count": 18,
   "metadata": {},
   "outputs": [
    {
     "data": {
      "text/plain": [
       "[<matplotlib.lines.Line2D at 0x1e78954c250>]"
      ]
     },
     "execution_count": 18,
     "metadata": {},
     "output_type": "execute_result"
    },
    {
     "data": {
      "image/png": "[encoded data removed]",
      "text/plain": [
       "<Figure size 432x288 with 1 Axes>"
      ]
     },
     "metadata": {
      "needs_background": "light"
     },
     "output_type": "display_data"
    }
   ],
   "source": [
    "from collections import OrderedDict\n",
    "\n",
    "def pmf(seq):\n",
    "    freq_dict = {}\n",
    "    for i in seq:\n",
    "        if i in freq_dict:\n",
    "            freq_dict[i]+=1\n",
    "        else:\n",
    "            freq_dict[i]=1\n",
    "    N = len(seq)\n",
    "    pmf_dict={}\n",
    "    for k,v in freq_dict.items():\n",
    "        pmf_dict[k]=v/N\n",
    "    return pmf_dict\n",
    "\n",
    "pmf_week_usage = pmf(data_c['Total Week Usage'])\n",
    "pmf_weekend_usage = pmf(data_c['Total Weekend Usage'])\n",
    "\n",
    "pmf_week_usage_sorted = OrderedDict(sorted(pmf_week_usage.items()))\n",
    "pmf_weekend_usage_sorted = OrderedDict(sorted(pmf_weekend_usage.items()))\n",
    "\n",
    "plt.step(list(pmf_week_usage_sorted.keys()),list(pmf_week_usage_sorted.values()), label=\"Total Week Usage\")\n",
    "plt.step(list(pmf_weekend_usage_sorted.keys()),list(pmf_weekend_usage_sorted.values()), label=\"Total Weekend Usage\")"
   ]
  },
  {
   "cell_type": "code",
   "execution_count": 19,
   "metadata": {},
   "outputs": [
    {
     "name": "stderr",
     "output_type": "stream",
     "text": [
      "C:\\Users\\GOURI\\AppData\\Local\\Temp/ipykernel_18776/3355023848.py:5: SettingWithCopyWarning: \n",
      "A value is trying to be set on a copy of a slice from a DataFrame.\n",
      "Try using .loc[row_indexer,col_indexer] = value instead\n",
      "\n",
      "See the caveats in the documentation: https://pandas.pydata.org/pandas-docs/stable/user_guide/indexing.html#returning-a-view-versus-a-copy\n",
      "  data_c['Total Facebook Usage'] = data_c['Total Facebook Usage']\n",
      "C:\\Users\\GOURI\\AppData\\Local\\Temp/ipykernel_18776/3355023848.py:6: SettingWithCopyWarning: \n",
      "A value is trying to be set on a copy of a slice from a DataFrame.\n",
      "Try using .loc[row_indexer,col_indexer] = value instead\n",
      "\n",
      "See the caveats in the documentation: https://pandas.pydata.org/pandas-docs/stable/user_guide/indexing.html#returning-a-view-versus-a-copy\n",
      "  data_c['Total Instagram Usage'] = data_c['Total Instagram Usage']\n",
      "C:\\Users\\GOURI\\AppData\\Local\\Temp/ipykernel_18776/3355023848.py:7: SettingWithCopyWarning: \n",
      "A value is trying to be set on a copy of a slice from a DataFrame.\n",
      "Try using .loc[row_indexer,col_indexer] = value instead\n",
      "\n",
      "See the caveats in the documentation: https://pandas.pydata.org/pandas-docs/stable/user_guide/indexing.html#returning-a-view-versus-a-copy\n",
      "  data_c['Total Social Media Usage'] = data_c['Total Social Media Usage']\n"
     ]
    },
    {
     "data": {
      "text/plain": [
       "{'bodies': [<matplotlib.collections.PolyCollection at 0x1e7895aa7c0>,\n",
       "  <matplotlib.collections.PolyCollection at 0x1e7895aaaf0>,\n",
       "  <matplotlib.collections.PolyCollection at 0x1e7895aae20>],\n",
       " 'cmeans': <matplotlib.collections.LineCollection at 0x1e7895aa700>,\n",
       " 'cmaxes': <matplotlib.collections.LineCollection at 0x1e7895c5400>,\n",
       " 'cmins': <matplotlib.collections.LineCollection at 0x1e7895c5790>,\n",
       " 'cbars': <matplotlib.collections.LineCollection at 0x1e7895c5b20>}"
      ]
     },
     "execution_count": 19,
     "metadata": {},
     "output_type": "execute_result"
    },
    {
     "data": {
      "image/png": "[encoded data removed]",
      "text/plain": [
       "<Figure size 432x288 with 1 Axes>"
      ]
     },
     "metadata": {
      "needs_background": "light"
     },
     "output_type": "display_data"
    }
   ],
   "source": [
    "#Hypothesis : people are shifting to Instagram from Facebook as a new trend.\n",
    "\n",
    "# Get the appropriate data in a seperate frame\n",
    "data_c = df[['Total Facebook Usage', 'Total Instagram Usage', 'Total Social Media Usage']]\n",
    "data_c['Total Facebook Usage'] = data_c['Total Facebook Usage']\n",
    "data_c['Total Instagram Usage'] = data_c['Total Instagram Usage']\n",
    "data_c['Total Social Media Usage'] = data_c['Total Social Media Usage']\n",
    "plt.violinplot(data_c, showmeans=True)"
   ]
  },
  {
   "cell_type": "markdown",
   "metadata": {},
   "source": [
    "Linear Regression to figure out the total social media usage in Last Week for all the three platforms."
   ]
  },
  {
   "cell_type": "code",
   "execution_count": 523,
   "metadata": {},
   "outputs": [],
   "source": [
    "x = df[['Time Spent on Facebook in last week','Time Spent on Instagram in last week','Time Spent on WhatsApp in last week']]\n",
    "y = df['Total Social Media Usage']"
   ]
  },
  {
   "cell_type": "code",
   "execution_count": 524,
   "metadata": {},
   "outputs": [
    {
     "name": "stdout",
     "output_type": "stream",
     "text": [
      "Cross Validation Scores are [0.88616085 0.93281345 0.95660633 0.94087733 0.92694618]\n",
      "Average Cross Validation score :0.9286808293758915\n",
      "[1.3625366  1.36038369 1.21809636]\n",
      "151.87509468415828\n"
     ]
    }
   ],
   "source": [
    "from sklearn.model_selection import train_test_split\n",
    "from sklearn.model_selection import cross_val_score,KFold\n",
    "x_train, x_test, y_train, y_test = train_test_split(x, y, test_size = 0.3)\n",
    "from sklearn.linear_model import LinearRegression\n",
    "model = LinearRegression()\n",
    "\n",
    "model.fit(x_train, y_train)\n",
    "kf=KFold(n_splits=5)\n",
    "score=cross_val_score(model,x,y,cv=kf)\n",
    "print(\"Cross Validation Scores are {}\".format(score))\n",
    "print(\"Average Cross Validation score :{}\".format(score.mean()))\n",
    "print(model.coef_)\n",
    "print(model.intercept_)"
   ]
  },
  {
   "cell_type": "code",
   "execution_count": 525,
   "metadata": {},
   "outputs": [
    {
     "name": "stdout",
     "output_type": "stream",
     "text": [
      "818      1148.0\n",
      "794       654.0\n",
      "1234     2865.0\n",
      "1289     3362.0\n",
      "1473      210.0\n",
      "         ...   \n",
      "319      1440.0\n",
      "879     15780.0\n",
      "1411       60.0\n",
      "365       645.0\n",
      "1388      660.0\n",
      "Name: Total Social Media Usage, Length: 489, dtype: float64\n",
      "3202.392101603737\n"
     ]
    }
   ],
   "source": [
    "predictions = model.predict(x_test)\n",
    "print(y_test)\n",
    "print(predictions[3])"
   ]
  },
  {
   "cell_type": "code",
   "execution_count": 526,
   "metadata": {},
   "outputs": [
    {
     "data": {
      "text/plain": [
       "(array([  2.,   1.,   6.,  77., 346.,  32.,  15.,   5.,   3.,   2.]),\n",
       " array([-2192.27358054, -1695.88183763, -1199.49009473,  -703.09835182,\n",
       "         -206.70660891,   289.68513399,   786.0768769 ,  1282.4686198 ,\n",
       "         1778.86036271,  2275.25210562,  2771.64384852]),\n",
       " <BarContainer object of 10 artists>)"
      ]
     },
     "execution_count": 526,
     "metadata": {},
     "output_type": "execute_result"
    },
    {
     "data": {
      "image/png": "[encoded data removed]",
      "text/plain": [
       "<Figure size 432x288 with 1 Axes>"
      ]
     },
     "metadata": {
      "needs_background": "light"
     },
     "output_type": "display_data"
    }
   ],
   "source": [
    "plt.hist(y_test - predictions)"
   ]
  },
  {
   "cell_type": "code",
   "execution_count": 527,
   "metadata": {},
   "outputs": [
    {
     "data": {
      "text/plain": [
       "248.86804728696887"
      ]
     },
     "execution_count": 527,
     "metadata": {},
     "output_type": "execute_result"
    }
   ],
   "source": [
    "from sklearn import metrics\n",
    "metrics.mean_absolute_error(y_test, predictions)"
   ]
  },
  {
   "cell_type": "code",
   "execution_count": 528,
   "metadata": {},
   "outputs": [
    {
     "name": "stdout",
     "output_type": "stream",
     "text": [
      "0.9370130590261045\n",
      "93.70130590261046 %\n"
     ]
    }
   ],
   "source": [
    "r2_score = model.score(x_test,y_test)\n",
    "print(r2_score)\n",
    "print(r2_score*100,'%')"
   ]
  },
  {
   "cell_type": "code",
   "execution_count": 529,
   "metadata": {},
   "outputs": [
    {
     "name": "stdout",
     "output_type": "stream",
     "text": [
      "191019.54651626915\n",
      "19101954.651626915\n"
     ]
    }
   ],
   "source": [
    "from sklearn.metrics import mean_squared_error\n",
    "error=mean_squared_error(y_test,predictions)\n",
    "print(error)\n",
    "print(error*100)"
   ]
  },
  {
   "cell_type": "markdown",
   "metadata": {},
   "source": [
    "Linear Regression to figure out the total social media usage in Last Weekend for all the three platforms."
   ]
  },
  {
   "cell_type": "code",
   "execution_count": 596,
   "metadata": {},
   "outputs": [],
   "source": [
    "x = df[['Time Spent on Facebook in last weekend','Time Spent on Instagram in last weekend','Time Spent on WhatsApp in last weekend']]\n",
    "y = df['Total Social Media Usage']"
   ]
  },
  {
   "cell_type": "code",
   "execution_count": 597,
   "metadata": {},
   "outputs": [
    {
     "name": "stdout",
     "output_type": "stream",
     "text": [
      "Cross Validation Scores are [0.54081421 0.54950756 0.6064657  0.63390186 0.62823263]\n",
      "Average Cross Validation score :0.5917843935646456\n",
      "[2.54534977 2.24407242 2.97774209]\n",
      "534.7614676896108\n"
     ]
    }
   ],
   "source": [
    "from sklearn.model_selection import train_test_split\n",
    "from sklearn.model_selection import cross_val_score,KFold\n",
    "x_train, x_test, y_train, y_test = train_test_split(x, y, test_size = 0.3)\n",
    "from sklearn.linear_model import LinearRegression\n",
    "model = LinearRegression()\n",
    "\n",
    "model.fit(x_train, y_train)\n",
    "kf=KFold(n_splits=5)\n",
    "score=cross_val_score(model,x,y,cv=kf)\n",
    "print(\"Cross Validation Scores are {}\".format(score))\n",
    "print(\"Average Cross Validation score :{}\".format(score.mean()))\n",
    "print(model.coef_)\n",
    "print(model.intercept_)"
   ]
  },
  {
   "cell_type": "code",
   "execution_count": 598,
   "metadata": {},
   "outputs": [
    {
     "name": "stdout",
     "output_type": "stream",
     "text": [
      "1184     469.0\n",
      "1080    1360.0\n",
      "554      710.0\n",
      "657      576.0\n",
      "1520     300.0\n",
      "         ...  \n",
      "562     7620.0\n",
      "1055    1361.0\n",
      "327     2416.0\n",
      "41      4000.0\n",
      "875     1797.0\n",
      "Name: Total Social Media Usage, Length: 489, dtype: float64\n",
      "937.2784056807795\n"
     ]
    }
   ],
   "source": [
    "predictions = model.predict(x_test)\n",
    "print(y_test)\n",
    "print(predictions[3])"
   ]
  },
  {
   "cell_type": "code",
   "execution_count": 599,
   "metadata": {},
   "outputs": [
    {
     "data": {
      "text/plain": [
       "(array([  3.,   9., 155., 275.,  29.,   6.,   6.,   5.,   0.,   1.]),\n",
       " array([-4591.62036491, -3168.04386448, -1744.46736404,  -320.89086361,\n",
       "         1102.68563683,  2526.26213726,  3949.8386377 ,  5373.41513813,\n",
       "         6796.99163857,  8220.568139  ,  9644.14463944]),\n",
       " <BarContainer object of 10 artists>)"
      ]
     },
     "execution_count": 599,
     "metadata": {},
     "output_type": "execute_result"
    },
    {
     "data": {
      "image/png": "[encoded data removed]",
      "text/plain": [
       "<Figure size 432x288 with 1 Axes>"
      ]
     },
     "metadata": {
      "needs_background": "light"
     },
     "output_type": "display_data"
    }
   ],
   "source": [
    "plt.hist(y_test - predictions)"
   ]
  },
  {
   "cell_type": "code",
   "execution_count": 600,
   "metadata": {},
   "outputs": [
    {
     "data": {
      "text/plain": [
       "707.1583331909363"
      ]
     },
     "execution_count": 600,
     "metadata": {},
     "output_type": "execute_result"
    }
   ],
   "source": [
    "from sklearn import metrics\n",
    "metrics.mean_absolute_error(y_test, predictions)"
   ]
  },
  {
   "cell_type": "code",
   "execution_count": 601,
   "metadata": {},
   "outputs": [
    {
     "name": "stdout",
     "output_type": "stream",
     "text": [
      "0.5710241646605476\n",
      "57.10241646605476 %\n"
     ]
    }
   ],
   "source": [
    "r2_score = model.score(x_test,y_test)\n",
    "print(r2_score)\n",
    "print(r2_score*100,'%')"
   ]
  },
  {
   "cell_type": "code",
   "execution_count": 602,
   "metadata": {},
   "outputs": [
    {
     "name": "stdout",
     "output_type": "stream",
     "text": [
      "1532335.6948829598\n",
      "153233569.48829597\n"
     ]
    }
   ],
   "source": [
    "from sklearn.metrics import mean_squared_error\n",
    "error=mean_squared_error(y_test,predictions)\n",
    "print(error)\n",
    "print(error*100)"
   ]
  },
  {
   "cell_type": "markdown",
   "metadata": {},
   "source": [
    "XGBOOST - To improve the performance for the total social media usage in Last Week for all the three platforms."
   ]
  },
  {
   "cell_type": "code",
   "execution_count": 603,
   "metadata": {},
   "outputs": [],
   "source": [
    "import pandas as pd\n",
    "from sklearn.model_selection import train_test_split\n",
    "from sklearn.impute import SimpleImputer\n",
    "imputer = SimpleImputer(missing_values=np.nan, strategy='mean')\n",
    "\n",
    "x = df[['Time Spent on Facebook in last weekend','Time Spent on Instagram in last weekend','Time Spent on WhatsApp in last weekend']]\n",
    "y = df['Total Social Media Usage']"
   ]
  },
  {
   "cell_type": "code",
   "execution_count": 604,
   "metadata": {},
   "outputs": [],
   "source": [
    "x_train, x_test, y_train, y_test = train_test_split(x, y, test_size=0.3)\n",
    "\n",
    "my_imputer = SimpleImputer()\n",
    "x_train = my_imputer.fit_transform(x_train)\n",
    "x_test = my_imputer.transform(x_test)"
   ]
  },
  {
   "cell_type": "code",
   "execution_count": 605,
   "metadata": {},
   "outputs": [
    {
     "name": "stderr",
     "output_type": "stream",
     "text": [
      "C:\\Python39\\lib\\site-packages\\xgboost\\sklearn.py:793: UserWarning: `early_stopping_rounds` in `fit` method is deprecated for better compatibility with scikit-learn, use `early_stopping_rounds` in constructor or`set_params` instead.\n",
      "  warnings.warn(\n"
     ]
    },
    {
     "data": {
      "text/plain": [
       "XGBRegressor(base_score=0.5, booster='gbtree', callbacks=None,\n",
       "             colsample_bylevel=1, colsample_bynode=1, colsample_bytree=1,\n",
       "             early_stopping_rounds=None, enable_categorical=False,\n",
       "             eval_metric=None, gamma=0, gpu_id=-1, grow_policy='depthwise',\n",
       "             importance_type=None, interaction_constraints='',\n",
       "             learning_rate=0.300000012, max_bin=256, max_cat_to_onehot=4,\n",
       "             max_delta_step=0, max_depth=6, max_leaves=0, min_child_weight=1,\n",
       "             missing=nan, monotone_constraints='()', n_estimators=1000,\n",
       "             n_jobs=0, num_parallel_tree=1, predictor='auto', random_state=0,\n",
       "             reg_alpha=0, reg_lambda=1, ...)"
      ]
     },
     "execution_count": 605,
     "metadata": {},
     "output_type": "execute_result"
    }
   ],
   "source": [
    "my_model = XGBRegressor(n_estimators=1000)\n",
    "my_model.fit(x_train, y_train, early_stopping_rounds=5, \n",
    "             eval_set=[(x_test,y_test)], verbose=False)"
   ]
  },
  {
   "cell_type": "code",
   "execution_count": 606,
   "metadata": {},
   "outputs": [
    {
     "name": "stdout",
     "output_type": "stream",
     "text": [
      "Mean Absolute Error : 612.0303833257444\n"
     ]
    }
   ],
   "source": [
    "# make predictions\n",
    "predictions = my_model.predict(x_test)\n",
    "\n",
    "from sklearn.metrics import mean_absolute_error\n",
    "print(\"Mean Absolute Error : \" + str(mean_absolute_error(predictions, y_test)))"
   ]
  },
  {
   "cell_type": "code",
   "execution_count": 607,
   "metadata": {},
   "outputs": [
    {
     "name": "stdout",
     "output_type": "stream",
     "text": [
      "0.6072570386041429\n",
      "60.72570386041429 %\n"
     ]
    }
   ],
   "source": [
    "r2_score = my_model.score(x_test,y_test)\n",
    "print(r2_score)\n",
    "print(r2_score*100,'%')"
   ]
  },
  {
   "cell_type": "markdown",
   "metadata": {},
   "source": [
    "Random Forest for instagram activity status"
   ]
  },
  {
   "cell_type": "code",
   "execution_count": 608,
   "metadata": {},
   "outputs": [
    {
     "data": {
      "text/plain": [
       "array([2, 0, 1])"
      ]
     },
     "execution_count": 608,
     "metadata": {},
     "output_type": "execute_result"
    }
   ],
   "source": [
    "# Import label encoder\n",
    "from sklearn import preprocessing\n",
    " \n",
    "# label_encoder object knows how to understand word labels.\n",
    "label_encoder = preprocessing.LabelEncoder()\n",
    "\n",
    "df['City']= label_encoder.fit_transform(df['City'])\n",
    "df['City'].unique()\n",
    "\n",
    "df['Current Status']= label_encoder.fit_transform(df['Current Status'])\n",
    "df['Current Status'].unique()\n",
    "\n",
    "df['Do you own multiple profiles on Instagram?']= label_encoder.fit_transform(df['Do you own multiple profiles on Instagram?'])\n",
    "df['Do you own multiple profiles on Instagram?'].unique()\n",
    "\n",
    "df['Gender']= label_encoder.fit_transform(df['Gender'])\n",
    "df['Gender'].unique()\n",
    "\n",
    "df['Highest Education']= label_encoder.fit_transform(df['Highest Education'])\n",
    "df['Highest Education'].unique()\n",
    "\n",
    "df['Phone OS']= label_encoder.fit_transform(df['Phone OS'])\n",
    "df['Phone OS'].unique()\n"
   ]
  },
  {
   "cell_type": "code",
   "execution_count": 609,
   "metadata": {},
   "outputs": [],
   "source": [
    "# random forest \n",
    "labels = np.array(df['Total Social Media Usage'])\n",
    "features=df[['Age','City','Current Status','Gender','Highest Education','Phone OS','Instagram Followers','Instagram Posts',\n",
    "            'Time Spent on Facebook in last week','Time Spent on Instagram in last week',\n",
    "            'Time Spent on WhatsApp in last week']]"
   ]
  },
  {
   "cell_type": "code",
   "execution_count": 610,
   "metadata": {},
   "outputs": [
    {
     "data": {
      "text/plain": [
       "array([ 2190., 15160., 13500., ...,   813.,   848.,  2980.])"
      ]
     },
     "execution_count": 610,
     "metadata": {},
     "output_type": "execute_result"
    }
   ],
   "source": [
    "labels"
   ]
  },
  {
   "cell_type": "code",
   "execution_count": 611,
   "metadata": {},
   "outputs": [
    {
     "data": {
      "text/html": [
       "<div>\n",
       "<style scoped>\n",
       "    .dataframe tbody tr th:only-of-type {\n",
       "        vertical-align: middle;\n",
       "    }\n",
       "\n",
       "    .dataframe tbody tr th {\n",
       "        vertical-align: top;\n",
       "    }\n",
       "\n",
       "    .dataframe thead th {\n",
       "        text-align: right;\n",
       "    }\n",
       "</style>\n",
       "<table border=\"1\" class=\"dataframe\">\n",
       "  <thead>\n",
       "    <tr style=\"text-align: right;\">\n",
       "      <th></th>\n",
       "      <th>Age</th>\n",
       "      <th>City</th>\n",
       "      <th>Current Status</th>\n",
       "      <th>Gender</th>\n",
       "      <th>Highest Education</th>\n",
       "      <th>Phone OS</th>\n",
       "      <th>Instagram Followers</th>\n",
       "      <th>Instagram Posts</th>\n",
       "      <th>Time Spent on Facebook in last week</th>\n",
       "      <th>Time Spent on Instagram in last week</th>\n",
       "      <th>Time Spent on WhatsApp in last week</th>\n",
       "    </tr>\n",
       "  </thead>\n",
       "  <tbody>\n",
       "    <tr>\n",
       "      <th>0</th>\n",
       "      <td>24</td>\n",
       "      <td>18</td>\n",
       "      <td>3</td>\n",
       "      <td>0</td>\n",
       "      <td>0</td>\n",
       "      <td>2</td>\n",
       "      <td>456</td>\n",
       "      <td>20</td>\n",
       "      <td>0</td>\n",
       "      <td>770</td>\n",
       "      <td>900</td>\n",
       "    </tr>\n",
       "    <tr>\n",
       "      <th>1</th>\n",
       "      <td>39</td>\n",
       "      <td>18</td>\n",
       "      <td>3</td>\n",
       "      <td>0</td>\n",
       "      <td>2</td>\n",
       "      <td>2</td>\n",
       "      <td>0</td>\n",
       "      <td>0</td>\n",
       "      <td>6000</td>\n",
       "      <td>0</td>\n",
       "      <td>5000</td>\n",
       "    </tr>\n",
       "    <tr>\n",
       "      <th>2</th>\n",
       "      <td>22</td>\n",
       "      <td>38</td>\n",
       "      <td>3</td>\n",
       "      <td>1</td>\n",
       "      <td>0</td>\n",
       "      <td>0</td>\n",
       "      <td>400</td>\n",
       "      <td>6</td>\n",
       "      <td>500</td>\n",
       "      <td>1000</td>\n",
       "      <td>7000</td>\n",
       "    </tr>\n",
       "    <tr>\n",
       "      <th>3</th>\n",
       "      <td>26</td>\n",
       "      <td>8</td>\n",
       "      <td>0</td>\n",
       "      <td>0</td>\n",
       "      <td>0</td>\n",
       "      <td>0</td>\n",
       "      <td>485</td>\n",
       "      <td>16</td>\n",
       "      <td>1500</td>\n",
       "      <td>2000</td>\n",
       "      <td>1680</td>\n",
       "    </tr>\n",
       "    <tr>\n",
       "      <th>4</th>\n",
       "      <td>50</td>\n",
       "      <td>18</td>\n",
       "      <td>3</td>\n",
       "      <td>1</td>\n",
       "      <td>0</td>\n",
       "      <td>2</td>\n",
       "      <td>0</td>\n",
       "      <td>0</td>\n",
       "      <td>1500</td>\n",
       "      <td>0</td>\n",
       "      <td>2400</td>\n",
       "    </tr>\n",
       "    <tr>\n",
       "      <th>...</th>\n",
       "      <td>...</td>\n",
       "      <td>...</td>\n",
       "      <td>...</td>\n",
       "      <td>...</td>\n",
       "      <td>...</td>\n",
       "      <td>...</td>\n",
       "      <td>...</td>\n",
       "      <td>...</td>\n",
       "      <td>...</td>\n",
       "      <td>...</td>\n",
       "      <td>...</td>\n",
       "    </tr>\n",
       "    <tr>\n",
       "      <th>1623</th>\n",
       "      <td>24</td>\n",
       "      <td>18</td>\n",
       "      <td>2</td>\n",
       "      <td>1</td>\n",
       "      <td>2</td>\n",
       "      <td>2</td>\n",
       "      <td>0</td>\n",
       "      <td>0</td>\n",
       "      <td>0</td>\n",
       "      <td>0</td>\n",
       "      <td>1000</td>\n",
       "    </tr>\n",
       "    <tr>\n",
       "      <th>1624</th>\n",
       "      <td>24</td>\n",
       "      <td>32</td>\n",
       "      <td>3</td>\n",
       "      <td>1</td>\n",
       "      <td>2</td>\n",
       "      <td>2</td>\n",
       "      <td>769</td>\n",
       "      <td>98</td>\n",
       "      <td>0</td>\n",
       "      <td>217</td>\n",
       "      <td>436</td>\n",
       "    </tr>\n",
       "    <tr>\n",
       "      <th>1625</th>\n",
       "      <td>24</td>\n",
       "      <td>35</td>\n",
       "      <td>3</td>\n",
       "      <td>1</td>\n",
       "      <td>2</td>\n",
       "      <td>2</td>\n",
       "      <td>791</td>\n",
       "      <td>146</td>\n",
       "      <td>35</td>\n",
       "      <td>272</td>\n",
       "      <td>343</td>\n",
       "    </tr>\n",
       "    <tr>\n",
       "      <th>1626</th>\n",
       "      <td>35</td>\n",
       "      <td>38</td>\n",
       "      <td>3</td>\n",
       "      <td>1</td>\n",
       "      <td>2</td>\n",
       "      <td>2</td>\n",
       "      <td>645</td>\n",
       "      <td>1768</td>\n",
       "      <td>50</td>\n",
       "      <td>22</td>\n",
       "      <td>620</td>\n",
       "    </tr>\n",
       "    <tr>\n",
       "      <th>1627</th>\n",
       "      <td>26</td>\n",
       "      <td>8</td>\n",
       "      <td>3</td>\n",
       "      <td>2</td>\n",
       "      <td>2</td>\n",
       "      <td>2</td>\n",
       "      <td>12000</td>\n",
       "      <td>200</td>\n",
       "      <td>50</td>\n",
       "      <td>1480</td>\n",
       "      <td>1200</td>\n",
       "    </tr>\n",
       "  </tbody>\n",
       "</table>\n",
       "<p>1628 rows × 11 columns</p>\n",
       "</div>"
      ],
      "text/plain": [
       "      Age  City  Current Status  Gender  Highest Education  Phone OS  \\\n",
       "0      24    18               3       0                  0         2   \n",
       "1      39    18               3       0                  2         2   \n",
       "2      22    38               3       1                  0         0   \n",
       "3      26     8               0       0                  0         0   \n",
       "4      50    18               3       1                  0         2   \n",
       "...   ...   ...             ...     ...                ...       ...   \n",
       "1623   24    18               2       1                  2         2   \n",
       "1624   24    32               3       1                  2         2   \n",
       "1625   24    35               3       1                  2         2   \n",
       "1626   35    38               3       1                  2         2   \n",
       "1627   26     8               3       2                  2         2   \n",
       "\n",
       "      Instagram Followers  Instagram Posts  \\\n",
       "0                     456               20   \n",
       "1                       0                0   \n",
       "2                     400                6   \n",
       "3                     485               16   \n",
       "4                       0                0   \n",
       "...                   ...              ...   \n",
       "1623                    0                0   \n",
       "1624                  769               98   \n",
       "1625                  791              146   \n",
       "1626                  645             1768   \n",
       "1627                12000              200   \n",
       "\n",
       "      Time Spent on Facebook in last week  \\\n",
       "0                                       0   \n",
       "1                                    6000   \n",
       "2                                     500   \n",
       "3                                    1500   \n",
       "4                                    1500   \n",
       "...                                   ...   \n",
       "1623                                    0   \n",
       "1624                                    0   \n",
       "1625                                   35   \n",
       "1626                                   50   \n",
       "1627                                   50   \n",
       "\n",
       "      Time Spent on Instagram in last week  \\\n",
       "0                                      770   \n",
       "1                                        0   \n",
       "2                                     1000   \n",
       "3                                     2000   \n",
       "4                                        0   \n",
       "...                                    ...   \n",
       "1623                                     0   \n",
       "1624                                   217   \n",
       "1625                                   272   \n",
       "1626                                    22   \n",
       "1627                                  1480   \n",
       "\n",
       "      Time Spent on WhatsApp in last week  \n",
       "0                                     900  \n",
       "1                                    5000  \n",
       "2                                    7000  \n",
       "3                                    1680  \n",
       "4                                    2400  \n",
       "...                                   ...  \n",
       "1623                                 1000  \n",
       "1624                                  436  \n",
       "1625                                  343  \n",
       "1626                                  620  \n",
       "1627                                 1200  \n",
       "\n",
       "[1628 rows x 11 columns]"
      ]
     },
     "execution_count": 611,
     "metadata": {},
     "output_type": "execute_result"
    }
   ],
   "source": [
    "features"
   ]
  },
  {
   "cell_type": "code",
   "execution_count": 612,
   "metadata": {},
   "outputs": [],
   "source": [
    "# Saving feature names for later use\n",
    "feature_list = list(features.columns)\n",
    "# Convert to numpy array\n",
    "features = np.array(features)"
   ]
  },
  {
   "cell_type": "code",
   "execution_count": 613,
   "metadata": {},
   "outputs": [],
   "source": [
    "# Using Skicit-learn to split data into training and testing sets\n",
    "from sklearn.model_selection import train_test_split\n",
    "# Split the data into training and testing sets\n",
    "train_features, test_features, train_labels, test_labels = train_test_split(features, labels, test_size = 0.25, random_state = 42)"
   ]
  },
  {
   "cell_type": "code",
   "execution_count": 614,
   "metadata": {},
   "outputs": [
    {
     "name": "stdout",
     "output_type": "stream",
     "text": [
      "Training Features Shape: (1221, 11)\n",
      "Training Labels Shape: (1221,)\n",
      "Testing Features Shape: (407, 11)\n",
      "Testing Labels Shape: (407,)\n"
     ]
    }
   ],
   "source": [
    "print('Training Features Shape:', train_features.shape)\n",
    "print('Training Labels Shape:', train_labels.shape)\n",
    "print('Testing Features Shape:', test_features.shape)\n",
    "print('Testing Labels Shape:', test_labels.shape)"
   ]
  },
  {
   "cell_type": "code",
   "execution_count": 615,
   "metadata": {},
   "outputs": [],
   "source": [
    "# Import the model we are using\n",
    "from sklearn.ensemble import RandomForestRegressor\n",
    "# Instantiate model with 1000 decision trees\n",
    "rf = RandomForestRegressor(n_estimators = 1000, random_state = 42)\n",
    "# Train the model on training data\n",
    "rf.fit(train_features, train_labels);"
   ]
  },
  {
   "cell_type": "code",
   "execution_count": 616,
   "metadata": {},
   "outputs": [
    {
     "name": "stdout",
     "output_type": "stream",
     "text": [
      "Mean Absolute Error: 287.36\n"
     ]
    }
   ],
   "source": [
    "# Use the forest's predict method on the test data\n",
    "predictions = rf.predict(test_features)\n",
    "# Calculate the absolute errors\n",
    "errors = abs(predictions - test_labels)\n",
    "# Print out the mean absolute error (mae)\n",
    "print('Mean Absolute Error:', round(np.mean(errors), 2))"
   ]
  },
  {
   "cell_type": "code",
   "execution_count": 617,
   "metadata": {},
   "outputs": [
    {
     "name": "stdout",
     "output_type": "stream",
     "text": [
      "Accuracy: 84.08 %.\n"
     ]
    }
   ],
   "source": [
    "# Calculate mean absolute percentage error (MAPE)\n",
    "mape = 100 * (errors / test_labels)\n",
    "# Calculate and display accuracy\n",
    "accuracy = 100 - np.mean(mape)\n",
    "print('Accuracy:', round(accuracy, 2), '%.')"
   ]
  },
  {
   "cell_type": "code",
   "execution_count": 618,
   "metadata": {},
   "outputs": [
    {
     "data": {
      "text/plain": [
       "<BarContainer object of 11 artists>"
      ]
     },
     "execution_count": 618,
     "metadata": {},
     "output_type": "execute_result"
    },
    {
     "data": {
      "image/png": "[encoded data removed]",
      "text/plain": [
       "<Figure size 432x288 with 1 Axes>"
      ]
     },
     "metadata": {
      "needs_background": "light"
     },
     "output_type": "display_data"
    }
   ],
   "source": [
    "rf.feature_importances_\n",
    "plt.barh(feature_list, rf.feature_importances_)"
   ]
  },
  {
   "cell_type": "markdown",
   "metadata": {},
   "source": [
    "Instagram followers and instagram posts - using Linear Regression"
   ]
  },
  {
   "cell_type": "code",
   "execution_count": 634,
   "metadata": {},
   "outputs": [],
   "source": [
    "x = df[['Instagram Followers','Instagram Posts','Total Instagram Usage']]\n",
    "y = df['Total Social Media Usage']"
   ]
  },
  {
   "cell_type": "code",
   "execution_count": 635,
   "metadata": {},
   "outputs": [
    {
     "name": "stdout",
     "output_type": "stream",
     "text": [
      "Cross Validation Scores are [0.38015047 0.60259074 0.66963075 0.38890315 0.57995909]\n",
      "Average Cross Validation score :0.5242468394286199\n",
      "[-0.00530224 -0.4005246   1.69935321]\n",
      "959.729013411898\n"
     ]
    }
   ],
   "source": [
    "from sklearn.model_selection import train_test_split\n",
    "from sklearn.model_selection import cross_val_score,KFold\n",
    "x_train, x_test, y_train, y_test = train_test_split(x, y, test_size = 0.3)\n",
    "from sklearn.linear_model import LinearRegression\n",
    "model = LinearRegression()\n",
    "\n",
    "model.fit(x_train, y_train)\n",
    "kf=KFold(n_splits=5)\n",
    "score=cross_val_score(model,x,y,cv=kf)\n",
    "print(\"Cross Validation Scores are {}\".format(score))\n",
    "print(\"Average Cross Validation score :{}\".format(score.mean()))\n",
    "print(model.coef_)\n",
    "print(model.intercept_)"
   ]
  },
  {
   "cell_type": "code",
   "execution_count": 636,
   "metadata": {},
   "outputs": [
    {
     "name": "stdout",
     "output_type": "stream",
     "text": [
      "1107    3132.0\n",
      "1147     318.0\n",
      "374     2046.0\n",
      "165     3780.0\n",
      "1480    1855.0\n",
      "         ...  \n",
      "190     2545.0\n",
      "1597     450.0\n",
      "1403    1064.0\n",
      "1202    3400.0\n",
      "360     1450.0\n",
      "Name: Total Social Media Usage, Length: 489, dtype: float64\n",
      "1926.2612132448025\n"
     ]
    }
   ],
   "source": [
    "predictions = model.predict(x_test)\n",
    "print(y_test)\n",
    "print(predictions[3])"
   ]
  },
  {
   "cell_type": "code",
   "execution_count": 637,
   "metadata": {},
   "outputs": [
    {
     "data": {
      "text/plain": [
       "(array([  5., 148., 240.,  61.,  20.,  11.,   2.,   1.,   0.,   1.]),\n",
       " array([-2732.08253608, -1670.9155268 ,  -609.74851751,   451.41849177,\n",
       "         1512.58550106,  2573.75251034,  3634.91951962,  4696.08652891,\n",
       "         5757.25353819,  6818.42054748,  7879.58755676]),\n",
       " <BarContainer object of 10 artists>)"
      ]
     },
     "execution_count": 637,
     "metadata": {},
     "output_type": "execute_result"
    },
    {
     "data": {
      "image/png": "[encoded data removed]",
      "text/plain": [
       "<Figure size 432x288 with 1 Axes>"
      ]
     },
     "metadata": {
      "needs_background": "light"
     },
     "output_type": "display_data"
    }
   ],
   "source": [
    "plt.hist(y_test - predictions)"
   ]
  },
  {
   "cell_type": "code",
   "execution_count": 638,
   "metadata": {},
   "outputs": [
    {
     "data": {
      "text/plain": [
       "727.9774144309488"
      ]
     },
     "execution_count": 638,
     "metadata": {},
     "output_type": "execute_result"
    }
   ],
   "source": [
    "from sklearn import metrics\n",
    "metrics.mean_absolute_error(y_test, predictions)"
   ]
  },
  {
   "cell_type": "code",
   "execution_count": 639,
   "metadata": {},
   "outputs": [
    {
     "name": "stdout",
     "output_type": "stream",
     "text": [
      "0.6693158379537578\n",
      "66.93158379537579 %\n"
     ]
    }
   ],
   "source": [
    "r2_score = model.score(x_test,y_test)\n",
    "print(r2_score)\n",
    "print(r2_score*100,'%')"
   ]
  }
 ],
 "metadata": {
  "interpreter": {
   "hash": "63fd5069d213b44bf678585dea6b12cceca9941eaf7f819626cde1f2670de90d"
  },
  "kernelspec": {
   "display_name": "Python 3.9.6 64-bit",
   "language": "python",
   "name": "python3"
  },
  "language_info": {
   "codemirror_mode": {
    "name": "ipython",
    "version": 3
   },
   "file_extension": ".py",
   "mimetype": "text/x-python",
   "name": "python",
   "nbconvert_exporter": "python",
   "pygments_lexer": "ipython3",
   "version": "3.9.6"
  },
  "orig_nbformat": 4
 },
 "nbformat": 4,
 "nbformat_minor": 2
}
